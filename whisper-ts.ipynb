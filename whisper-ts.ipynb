{
 "cells": [
  {
   "cell_type": "code",
   "execution_count": 2,
   "metadata": {},
   "outputs": [],
   "source": [
    "import os\n",
    "import stable_whisper"
   ]
  },
  {
   "cell_type": "markdown",
   "metadata": {},
   "source": [
    "# 자막 생성"
   ]
  },
  {
   "cell_type": "code",
   "execution_count": null,
   "metadata": {},
   "outputs": [],
   "source": [
    "import os\n",
    "\n",
    "# SRT 변환할 폴더의 경로\n",
    "directory_path = \".\"\n",
    "\n",
    "# Run on GPU with FP16\n",
    "model = stable_whisper.load_faster_whisper('.', device=\"cuda\", compute_type=\"float16\")\n",
    "\n",
    "# 폴더 내의 모든 파일을 순차적으로 읽습니다.\n",
    "for root, dirs, files in os.walk(directory_path):\n",
    "    for file in files:\n",
    "        # 파일 확장자가 .mp4인 경우만 처리합니다.\n",
    "        if file.endswith((\".mp4\" or \"mp3\" or \"webm\")):\n",
    "            video_file_path = os.path.join(root, file)\n",
    "            \n",
    "            # 동영상 파일 이름 가져오기\n",
    "            video_filename = os.path.splitext(os.path.basename(video_file_path))[0]\n",
    "\n",
    "            # SRT 파일 이름 구성\n",
    "            srt_filename = f'{video_filename}.srt'\n",
    "            print(srt_filename)\n",
    "\n",
    "            result = model.transcribe_stable(video_file_path, vad=True)\n",
    "            result.merge_by_gap(0.2, max_words=5) # optional\n",
    "            result.to_srt_vtt(srt_filename, word_level=False)\n"
   ]
  },
  {
   "cell_type": "code",
   "execution_count": null,
   "metadata": {},
   "outputs": [],
   "source": []
  }
 ],
 "metadata": {
  "kernelspec": {
   "display_name": ".felab",
   "language": "python",
   "name": ".felab"
  },
  "language_info": {
   "codemirror_mode": {
    "name": "ipython",
    "version": 3
   },
   "file_extension": ".py",
   "mimetype": "text/x-python",
   "name": "python",
   "nbconvert_exporter": "python",
   "pygments_lexer": "ipython3",
   "version": "3.10.11"
  }
 },
 "nbformat": 4,
 "nbformat_minor": 2
}
