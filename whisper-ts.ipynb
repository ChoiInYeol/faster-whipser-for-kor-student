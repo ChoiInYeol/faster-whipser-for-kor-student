{
 "cells": [
  {
   "cell_type": "code",
   "execution_count": 1,
   "metadata": {},
   "outputs": [],
   "source": [
    "import os\n",
    "import stable_whisper"
   ]
  },
  {
   "cell_type": "markdown",
   "metadata": {},
   "source": [
    "# 자막 생성"
   ]
  },
  {
   "cell_type": "code",
   "execution_count": 4,
   "metadata": {},
   "outputs": [
    {
     "name": "stdout",
     "output_type": "stream",
     "text": [
      "1-2장 에셋 프라이싱.srt\n",
      "Detected Language: english\n",
      "Transcribing with faster-whisper (.)...\r"
     ]
    },
    {
     "name": "stderr",
     "output_type": "stream",
     "text": [
      "Transcribe: 100%|██████████| 5084.01/5084.01 [04:08<00:00, 20.44sec/s]\n"
     ]
    },
    {
     "name": "stdout",
     "output_type": "stream",
     "text": [
      "Completed transcription with faster-whisper (.).\n"
     ]
    },
    {
     "name": "stderr",
     "output_type": "stream",
     "text": [
      "Using cache found in C:\\Users\\FELAB/.cache\\torch\\hub\\snakers4_silero-vad_master\n"
     ]
    },
    {
     "name": "stdout",
     "output_type": "stream",
     "text": [
      "Predicted silence(s) with VAD.       \n",
      "Saved: c:\\Users\\FELAB\\Desktop\\yt-dlp\\bin\\whisperobj\\1-2장 에셋 프라이싱.srt\n",
      "3장 에셋프라이싱.srt\n",
      "Detected Language: english\n",
      "Transcribing with faster-whisper (.)...\r"
     ]
    },
    {
     "name": "stderr",
     "output_type": "stream",
     "text": [
      "Transcribe: 100%|██████████| 4177.0/4177.0 [03:48<00:00, 18.32sec/s] \n"
     ]
    },
    {
     "name": "stdout",
     "output_type": "stream",
     "text": [
      "Completed transcription with faster-whisper (.).\n",
      "Predicted silence(s) with VAD.       \n",
      "Saved: c:\\Users\\FELAB\\Desktop\\yt-dlp\\bin\\whisperobj\\3장 에셋프라이싱.srt\n",
      "4장 에셋 프라이싱.srt\n",
      "Detected Language: english\n",
      "Transcribing with faster-whisper (.)...\r"
     ]
    },
    {
     "name": "stderr",
     "output_type": "stream",
     "text": [
      "Transcribe: 100%|██████████| 3171.78/3171.78 [02:41<00:00, 19.65sec/s]\n"
     ]
    },
    {
     "name": "stdout",
     "output_type": "stream",
     "text": [
      "Completed transcription with faster-whisper (.).\n",
      "Predicted silence(s) with VAD.       \n",
      "Saved: c:\\Users\\FELAB\\Desktop\\yt-dlp\\bin\\whisperobj\\4장 에셋 프라이싱.srt\n",
      "5장 에셋 프라이싱.srt\n",
      "Detected Language: english\n",
      "Transcribing with faster-whisper (.)...\r"
     ]
    },
    {
     "name": "stderr",
     "output_type": "stream",
     "text": [
      "Transcribe: 100%|██████████| 3867.52/3867.52 [03:24<00:00, 18.90sec/s]\n"
     ]
    },
    {
     "name": "stdout",
     "output_type": "stream",
     "text": [
      "Completed transcription with faster-whisper (.).\n",
      "Predicted silence(s) with VAD.       \n",
      "Saved: c:\\Users\\FELAB\\Desktop\\yt-dlp\\bin\\whisperobj\\5장 에셋 프라이싱.srt\n",
      "6장 에셋프라이싱.srt\n",
      "Detected Language: english\n",
      "Transcribing with faster-whisper (.)...\r"
     ]
    },
    {
     "name": "stderr",
     "output_type": "stream",
     "text": [
      "Transcribe: 100%|██████████| 4067.41/4067.41 [03:39<00:00, 18.54sec/s]\n"
     ]
    },
    {
     "name": "stdout",
     "output_type": "stream",
     "text": [
      "Completed transcription with faster-whisper (.).\n",
      "Predicted silence(s) with VAD.       \n",
      "Saved: c:\\Users\\FELAB\\Desktop\\yt-dlp\\bin\\whisperobj\\6장 에셋프라이싱.srt\n",
      "7장 에셋 프라이싱.srt\n",
      "Detected Language: english\n",
      "Transcribing with faster-whisper (.)...\r"
     ]
    },
    {
     "name": "stderr",
     "output_type": "stream",
     "text": [
      "Transcribe: 100%|██████████| 2871.02/2871.02 [02:36<00:00, 18.38sec/s]\n"
     ]
    },
    {
     "name": "stdout",
     "output_type": "stream",
     "text": [
      "Completed transcription with faster-whisper (.).\n",
      "Predicted silence(s) with VAD.       \n",
      "Saved: c:\\Users\\FELAB\\Desktop\\yt-dlp\\bin\\whisperobj\\7장 에셋 프라이싱.srt\n"
     ]
    }
   ],
   "source": [
    "import os\n",
    "\n",
    "# SRT 변환할 폴더의 경로\n",
    "directory_path = \".\"\n",
    "\n",
    "# Run on GPU with FP16\n",
    "model = stable_whisper.load_faster_whisper('.', device=\"cuda\", compute_type=\"float16\")\n",
    "\n",
    "# 폴더 내의 모든 파일을 순차적으로 읽습니다.\n",
    "for root, dirs, files in os.walk(directory_path):\n",
    "    for file in files:\n",
    "        # 파일 확장자가 .mp4인 경우만 처리합니다.\n",
    "        if file.endswith((\".mp4\" or \"mp3\" or \"webm\")):\n",
    "            video_file_path = os.path.join(root, file)\n",
    "            \n",
    "            # 동영상 파일 이름 가져오기\n",
    "            video_filename = os.path.splitext(os.path.basename(video_file_path))[0]\n",
    "\n",
    "            # SRT 파일 이름 구성\n",
    "            srt_filename = f'{video_filename}.srt'\n",
    "            print(srt_filename)\n",
    "\n",
    "            result = model.transcribe_stable(video_file_path, vad=True)\n",
    "            result = model.refine(video_file_path, result) # optional\n",
    "            result.merge_by_gap(0.2, max_words=5) # optional\n",
    "            result.to_srt_vtt(srt_filename, word_level=False)\n"
   ]
  }
 ],
 "metadata": {
  "kernelspec": {
   "display_name": ".felab",
   "language": "python",
   "name": ".felab"
  },
  "language_info": {
   "codemirror_mode": {
    "name": "ipython",
    "version": 3
   },
   "file_extension": ".py",
   "mimetype": "text/x-python",
   "name": "python",
   "nbconvert_exporter": "python",
   "pygments_lexer": "ipython3",
   "version": "3.10.11"
  }
 },
 "nbformat": 4,
 "nbformat_minor": 2
}
